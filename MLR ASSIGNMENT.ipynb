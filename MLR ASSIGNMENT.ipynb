{
 "cells": [
  {
   "cell_type": "code",
   "execution_count": 1,
   "id": "cac298b8-8363-4d9b-b817-c02735a345bb",
   "metadata": {},
   "outputs": [
    {
     "name": "stdout",
     "output_type": "stream",
     "text": [
      "Requirement already satisfied: statsmodels in c:\\users\\dell\\anaconda3\\lib\\site-packages (0.14.0)\n",
      "Requirement already satisfied: numpy>=1.18 in c:\\users\\dell\\anaconda3\\lib\\site-packages (from statsmodels) (1.26.4)\n",
      "Requirement already satisfied: scipy!=1.9.2,>=1.4 in c:\\users\\dell\\anaconda3\\lib\\site-packages (from statsmodels) (1.11.4)\n",
      "Requirement already satisfied: pandas>=1.0 in c:\\users\\dell\\anaconda3\\lib\\site-packages (from statsmodels) (2.1.4)\n",
      "Requirement already satisfied: patsy>=0.5.2 in c:\\users\\dell\\anaconda3\\lib\\site-packages (from statsmodels) (0.5.3)\n",
      "Requirement already satisfied: packaging>=21.3 in c:\\users\\dell\\anaconda3\\lib\\site-packages (from statsmodels) (23.1)\n",
      "Requirement already satisfied: python-dateutil>=2.8.2 in c:\\users\\dell\\appdata\\roaming\\python\\python311\\site-packages (from pandas>=1.0->statsmodels) (2.9.0.post0)\n",
      "Requirement already satisfied: pytz>=2020.1 in c:\\users\\dell\\anaconda3\\lib\\site-packages (from pandas>=1.0->statsmodels) (2023.3.post1)\n",
      "Requirement already satisfied: tzdata>=2022.1 in c:\\users\\dell\\anaconda3\\lib\\site-packages (from pandas>=1.0->statsmodels) (2023.3)\n",
      "Requirement already satisfied: six in c:\\users\\dell\\appdata\\roaming\\python\\python311\\site-packages (from patsy>=0.5.2->statsmodels) (1.16.0)\n"
     ]
    }
   ],
   "source": [
    "! pip install statsmodels"
   ]
  },
  {
   "cell_type": "code",
   "execution_count": 2,
   "id": "3fb0306d-2515-45d7-8b36-9e171a342bbd",
   "metadata": {},
   "outputs": [],
   "source": [
    "import pandas as pd\n",
    "import numpy as np\n",
    "import seaborn as sns\n",
    "import matplotlib.pyplot as plt\n",
    "from sklearn.model_selection import train_test_split # to split the model\n",
    "import scipy.stats as stats\n",
    "import statsmodels.api as sm\n",
    "%matplotlib inline"
   ]
  },
  {
   "cell_type": "code",
   "execution_count": 3,
   "id": "bfec5b64-2560-4a85-ba80-af03cf73ea97",
   "metadata": {},
   "outputs": [
    {
     "name": "stdout",
     "output_type": "stream",
     "text": [
      "   Price  Age_08_04     KM Fuel_Type  HP  Automatic    cc  Doors  Cylinders  \\\n",
      "0  13500         23  46986    Diesel  90          0  2000      3          4   \n",
      "1  13750         23  72937    Diesel  90          0  2000      3          4   \n",
      "2  13950         24  41711    Diesel  90          0  2000      3          4   \n",
      "3  14950         26  48000    Diesel  90          0  2000      3          4   \n",
      "4  13750         30  38500    Diesel  90          0  2000      3          4   \n",
      "\n",
      "   Gears  Weight  \n",
      "0      5    1165  \n",
      "1      5    1165  \n",
      "2      5    1165  \n",
      "3      5    1165  \n",
      "4      5    1170  \n"
     ]
    }
   ],
   "source": [
    "data = pd.read_csv(r\"E:\\EXCELR\\ASSIGNMENTS\\Assignment 5\\Toyoto corrola.csv\")\n",
    "print(data.head())"
   ]
  },
  {
   "cell_type": "code",
   "execution_count": 4,
   "id": "33ad03e7-b629-49c1-a6a9-9920460fe024",
   "metadata": {},
   "outputs": [
    {
     "data": {
      "text/plain": [
       "Index(['Price', 'Age_08_04', 'KM', 'Fuel_Type', 'HP', 'Automatic', 'cc',\n",
       "       'Doors', 'Cylinders', 'Gears', 'Weight'],\n",
       "      dtype='object')"
      ]
     },
     "execution_count": 4,
     "metadata": {},
     "output_type": "execute_result"
    }
   ],
   "source": [
    "data.columns"
   ]
  },
  {
   "cell_type": "code",
   "execution_count": 5,
   "id": "1c47dcbd-99fc-4ed3-9c06-040bc1e761c8",
   "metadata": {},
   "outputs": [
    {
     "data": {
      "text/plain": [
       "(1436, 11)"
      ]
     },
     "execution_count": 5,
     "metadata": {},
     "output_type": "execute_result"
    }
   ],
   "source": [
    "data.shape"
   ]
  },
  {
   "cell_type": "code",
   "execution_count": 6,
   "id": "6db2fd11-3776-46c7-8b44-f7a6b391bb43",
   "metadata": {},
   "outputs": [
    {
     "data": {
      "text/plain": [
       "Price         236\n",
       "Age_08_04      77\n",
       "KM           1263\n",
       "Fuel_Type       3\n",
       "HP             12\n",
       "Automatic       2\n",
       "cc             13\n",
       "Doors           4\n",
       "Cylinders       1\n",
       "Gears           4\n",
       "Weight         59\n",
       "dtype: int64"
      ]
     },
     "execution_count": 6,
     "metadata": {},
     "output_type": "execute_result"
    }
   ],
   "source": [
    "data.nunique()"
   ]
  },
  {
   "cell_type": "code",
   "execution_count": 7,
   "id": "5abc2f5a-73ff-4f64-bc67-1c4a00ffa8ae",
   "metadata": {},
   "outputs": [
    {
     "data": {
      "text/plain": [
       "Price        0\n",
       "Age_08_04    0\n",
       "KM           0\n",
       "Fuel_Type    0\n",
       "HP           0\n",
       "Automatic    0\n",
       "cc           0\n",
       "Doors        0\n",
       "Cylinders    0\n",
       "Gears        0\n",
       "Weight       0\n",
       "dtype: int64"
      ]
     },
     "execution_count": 7,
     "metadata": {},
     "output_type": "execute_result"
    }
   ],
   "source": [
    "data.isnull().sum()"
   ]
  },
  {
   "cell_type": "code",
   "execution_count": 8,
   "id": "37c85240-5154-4823-bca3-2b0af5a64dd8",
   "metadata": {},
   "outputs": [
    {
     "name": "stdout",
     "output_type": "stream",
     "text": [
      "<class 'pandas.core.frame.DataFrame'>\n",
      "RangeIndex: 1436 entries, 0 to 1435\n",
      "Data columns (total 11 columns):\n",
      " #   Column     Non-Null Count  Dtype \n",
      "---  ------     --------------  ----- \n",
      " 0   Price      1436 non-null   int64 \n",
      " 1   Age_08_04  1436 non-null   int64 \n",
      " 2   KM         1436 non-null   int64 \n",
      " 3   Fuel_Type  1436 non-null   object\n",
      " 4   HP         1436 non-null   int64 \n",
      " 5   Automatic  1436 non-null   int64 \n",
      " 6   cc         1436 non-null   int64 \n",
      " 7   Doors      1436 non-null   int64 \n",
      " 8   Cylinders  1436 non-null   int64 \n",
      " 9   Gears      1436 non-null   int64 \n",
      " 10  Weight     1436 non-null   int64 \n",
      "dtypes: int64(10), object(1)\n",
      "memory usage: 123.5+ KB\n"
     ]
    }
   ],
   "source": [
    "data.info()"
   ]
  },
  {
   "cell_type": "code",
   "execution_count": 9,
   "id": "ed17dedc-bf4a-4539-8ffe-b9ccce753a89",
   "metadata": {},
   "outputs": [
    {
     "data": {
      "text/html": [
       "<div>\n",
       "<style scoped>\n",
       "    .dataframe tbody tr th:only-of-type {\n",
       "        vertical-align: middle;\n",
       "    }\n",
       "\n",
       "    .dataframe tbody tr th {\n",
       "        vertical-align: top;\n",
       "    }\n",
       "\n",
       "    .dataframe thead th {\n",
       "        text-align: right;\n",
       "    }\n",
       "</style>\n",
       "<table border=\"1\" class=\"dataframe\">\n",
       "  <thead>\n",
       "    <tr style=\"text-align: right;\">\n",
       "      <th></th>\n",
       "      <th>Price</th>\n",
       "      <th>Age_08_04</th>\n",
       "      <th>KM</th>\n",
       "      <th>Fuel_Type</th>\n",
       "      <th>HP</th>\n",
       "      <th>Automatic</th>\n",
       "      <th>cc</th>\n",
       "      <th>Doors</th>\n",
       "      <th>Cylinders</th>\n",
       "      <th>Gears</th>\n",
       "      <th>Weight</th>\n",
       "    </tr>\n",
       "  </thead>\n",
       "  <tbody>\n",
       "    <tr>\n",
       "      <th>0</th>\n",
       "      <td>13500</td>\n",
       "      <td>23</td>\n",
       "      <td>46986</td>\n",
       "      <td>1</td>\n",
       "      <td>90</td>\n",
       "      <td>0</td>\n",
       "      <td>2000</td>\n",
       "      <td>3</td>\n",
       "      <td>4</td>\n",
       "      <td>5</td>\n",
       "      <td>1165</td>\n",
       "    </tr>\n",
       "    <tr>\n",
       "      <th>1</th>\n",
       "      <td>13750</td>\n",
       "      <td>23</td>\n",
       "      <td>72937</td>\n",
       "      <td>1</td>\n",
       "      <td>90</td>\n",
       "      <td>0</td>\n",
       "      <td>2000</td>\n",
       "      <td>3</td>\n",
       "      <td>4</td>\n",
       "      <td>5</td>\n",
       "      <td>1165</td>\n",
       "    </tr>\n",
       "    <tr>\n",
       "      <th>2</th>\n",
       "      <td>13950</td>\n",
       "      <td>24</td>\n",
       "      <td>41711</td>\n",
       "      <td>1</td>\n",
       "      <td>90</td>\n",
       "      <td>0</td>\n",
       "      <td>2000</td>\n",
       "      <td>3</td>\n",
       "      <td>4</td>\n",
       "      <td>5</td>\n",
       "      <td>1165</td>\n",
       "    </tr>\n",
       "    <tr>\n",
       "      <th>3</th>\n",
       "      <td>14950</td>\n",
       "      <td>26</td>\n",
       "      <td>48000</td>\n",
       "      <td>1</td>\n",
       "      <td>90</td>\n",
       "      <td>0</td>\n",
       "      <td>2000</td>\n",
       "      <td>3</td>\n",
       "      <td>4</td>\n",
       "      <td>5</td>\n",
       "      <td>1165</td>\n",
       "    </tr>\n",
       "    <tr>\n",
       "      <th>4</th>\n",
       "      <td>13750</td>\n",
       "      <td>30</td>\n",
       "      <td>38500</td>\n",
       "      <td>1</td>\n",
       "      <td>90</td>\n",
       "      <td>0</td>\n",
       "      <td>2000</td>\n",
       "      <td>3</td>\n",
       "      <td>4</td>\n",
       "      <td>5</td>\n",
       "      <td>1170</td>\n",
       "    </tr>\n",
       "    <tr>\n",
       "      <th>...</th>\n",
       "      <td>...</td>\n",
       "      <td>...</td>\n",
       "      <td>...</td>\n",
       "      <td>...</td>\n",
       "      <td>...</td>\n",
       "      <td>...</td>\n",
       "      <td>...</td>\n",
       "      <td>...</td>\n",
       "      <td>...</td>\n",
       "      <td>...</td>\n",
       "      <td>...</td>\n",
       "    </tr>\n",
       "    <tr>\n",
       "      <th>1431</th>\n",
       "      <td>7500</td>\n",
       "      <td>69</td>\n",
       "      <td>20544</td>\n",
       "      <td>2</td>\n",
       "      <td>86</td>\n",
       "      <td>0</td>\n",
       "      <td>1300</td>\n",
       "      <td>3</td>\n",
       "      <td>4</td>\n",
       "      <td>5</td>\n",
       "      <td>1025</td>\n",
       "    </tr>\n",
       "    <tr>\n",
       "      <th>1432</th>\n",
       "      <td>10845</td>\n",
       "      <td>72</td>\n",
       "      <td>19000</td>\n",
       "      <td>2</td>\n",
       "      <td>86</td>\n",
       "      <td>0</td>\n",
       "      <td>1300</td>\n",
       "      <td>3</td>\n",
       "      <td>4</td>\n",
       "      <td>5</td>\n",
       "      <td>1015</td>\n",
       "    </tr>\n",
       "    <tr>\n",
       "      <th>1433</th>\n",
       "      <td>8500</td>\n",
       "      <td>71</td>\n",
       "      <td>17016</td>\n",
       "      <td>2</td>\n",
       "      <td>86</td>\n",
       "      <td>0</td>\n",
       "      <td>1300</td>\n",
       "      <td>3</td>\n",
       "      <td>4</td>\n",
       "      <td>5</td>\n",
       "      <td>1015</td>\n",
       "    </tr>\n",
       "    <tr>\n",
       "      <th>1434</th>\n",
       "      <td>7250</td>\n",
       "      <td>70</td>\n",
       "      <td>16916</td>\n",
       "      <td>2</td>\n",
       "      <td>86</td>\n",
       "      <td>0</td>\n",
       "      <td>1300</td>\n",
       "      <td>3</td>\n",
       "      <td>4</td>\n",
       "      <td>5</td>\n",
       "      <td>1015</td>\n",
       "    </tr>\n",
       "    <tr>\n",
       "      <th>1435</th>\n",
       "      <td>6950</td>\n",
       "      <td>76</td>\n",
       "      <td>1</td>\n",
       "      <td>2</td>\n",
       "      <td>110</td>\n",
       "      <td>0</td>\n",
       "      <td>1600</td>\n",
       "      <td>5</td>\n",
       "      <td>4</td>\n",
       "      <td>5</td>\n",
       "      <td>1114</td>\n",
       "    </tr>\n",
       "  </tbody>\n",
       "</table>\n",
       "<p>1436 rows × 11 columns</p>\n",
       "</div>"
      ],
      "text/plain": [
       "      Price  Age_08_04     KM  Fuel_Type   HP  Automatic    cc  Doors  \\\n",
       "0     13500         23  46986          1   90          0  2000      3   \n",
       "1     13750         23  72937          1   90          0  2000      3   \n",
       "2     13950         24  41711          1   90          0  2000      3   \n",
       "3     14950         26  48000          1   90          0  2000      3   \n",
       "4     13750         30  38500          1   90          0  2000      3   \n",
       "...     ...        ...    ...        ...  ...        ...   ...    ...   \n",
       "1431   7500         69  20544          2   86          0  1300      3   \n",
       "1432  10845         72  19000          2   86          0  1300      3   \n",
       "1433   8500         71  17016          2   86          0  1300      3   \n",
       "1434   7250         70  16916          2   86          0  1300      3   \n",
       "1435   6950         76      1          2  110          0  1600      5   \n",
       "\n",
       "      Cylinders  Gears  Weight  \n",
       "0             4      5    1165  \n",
       "1             4      5    1165  \n",
       "2             4      5    1165  \n",
       "3             4      5    1165  \n",
       "4             4      5    1170  \n",
       "...         ...    ...     ...  \n",
       "1431          4      5    1025  \n",
       "1432          4      5    1015  \n",
       "1433          4      5    1015  \n",
       "1434          4      5    1015  \n",
       "1435          4      5    1114  \n",
       "\n",
       "[1436 rows x 11 columns]"
      ]
     },
     "execution_count": 9,
     "metadata": {},
     "output_type": "execute_result"
    }
   ],
   "source": [
    "# Handle categorical variables: convert them into numerical values\n",
    "from sklearn.preprocessing import LabelEncoder\n",
    "label_encoders = {}\n",
    "for column in data.select_dtypes(include=['object']).columns:\n",
    "    label_encoders[column] = LabelEncoder()\n",
    "    data[column] = label_encoders[column].fit_transform(data[column])\n",
    "data"
   ]
  },
  {
   "cell_type": "code",
   "execution_count": 10,
   "id": "49733b18-9162-4598-89ac-b3b247900b18",
   "metadata": {},
   "outputs": [
    {
     "data": {
      "text/html": [
       "<div>\n",
       "<style scoped>\n",
       "    .dataframe tbody tr th:only-of-type {\n",
       "        vertical-align: middle;\n",
       "    }\n",
       "\n",
       "    .dataframe tbody tr th {\n",
       "        vertical-align: top;\n",
       "    }\n",
       "\n",
       "    .dataframe thead th {\n",
       "        text-align: right;\n",
       "    }\n",
       "</style>\n",
       "<table border=\"1\" class=\"dataframe\">\n",
       "  <thead>\n",
       "    <tr style=\"text-align: right;\">\n",
       "      <th></th>\n",
       "      <th>Price</th>\n",
       "      <th>Age_08_04</th>\n",
       "      <th>KM</th>\n",
       "      <th>Fuel_Type</th>\n",
       "      <th>HP</th>\n",
       "      <th>Automatic</th>\n",
       "      <th>cc</th>\n",
       "      <th>Doors</th>\n",
       "      <th>Cylinders</th>\n",
       "      <th>Gears</th>\n",
       "      <th>Weight</th>\n",
       "    </tr>\n",
       "  </thead>\n",
       "  <tbody>\n",
       "    <tr>\n",
       "      <th>Price</th>\n",
       "      <td>1.000000</td>\n",
       "      <td>-0.876590</td>\n",
       "      <td>-0.569960</td>\n",
       "      <td>-0.022157</td>\n",
       "      <td>0.314990</td>\n",
       "      <td>0.033081</td>\n",
       "      <td>0.126389</td>\n",
       "      <td>0.185326</td>\n",
       "      <td>NaN</td>\n",
       "      <td>0.063104</td>\n",
       "      <td>0.581198</td>\n",
       "    </tr>\n",
       "    <tr>\n",
       "      <th>Age_08_04</th>\n",
       "      <td>-0.876590</td>\n",
       "      <td>1.000000</td>\n",
       "      <td>0.505672</td>\n",
       "      <td>0.080261</td>\n",
       "      <td>-0.156622</td>\n",
       "      <td>0.031717</td>\n",
       "      <td>-0.098084</td>\n",
       "      <td>-0.148359</td>\n",
       "      <td>NaN</td>\n",
       "      <td>-0.005364</td>\n",
       "      <td>-0.470253</td>\n",
       "    </tr>\n",
       "    <tr>\n",
       "      <th>KM</th>\n",
       "      <td>-0.569960</td>\n",
       "      <td>0.505672</td>\n",
       "      <td>1.000000</td>\n",
       "      <td>-0.420586</td>\n",
       "      <td>-0.333538</td>\n",
       "      <td>-0.081854</td>\n",
       "      <td>0.102683</td>\n",
       "      <td>-0.036197</td>\n",
       "      <td>NaN</td>\n",
       "      <td>0.015023</td>\n",
       "      <td>-0.028598</td>\n",
       "    </tr>\n",
       "    <tr>\n",
       "      <th>Fuel_Type</th>\n",
       "      <td>-0.022157</td>\n",
       "      <td>0.080261</td>\n",
       "      <td>-0.420586</td>\n",
       "      <td>1.000000</td>\n",
       "      <td>0.409476</td>\n",
       "      <td>0.069718</td>\n",
       "      <td>-0.277239</td>\n",
       "      <td>-0.026935</td>\n",
       "      <td>NaN</td>\n",
       "      <td>0.069655</td>\n",
       "      <td>-0.505303</td>\n",
       "    </tr>\n",
       "    <tr>\n",
       "      <th>HP</th>\n",
       "      <td>0.314990</td>\n",
       "      <td>-0.156622</td>\n",
       "      <td>-0.333538</td>\n",
       "      <td>0.409476</td>\n",
       "      <td>1.000000</td>\n",
       "      <td>0.013144</td>\n",
       "      <td>0.035856</td>\n",
       "      <td>0.092424</td>\n",
       "      <td>NaN</td>\n",
       "      <td>0.209477</td>\n",
       "      <td>0.089614</td>\n",
       "    </tr>\n",
       "    <tr>\n",
       "      <th>Automatic</th>\n",
       "      <td>0.033081</td>\n",
       "      <td>0.031717</td>\n",
       "      <td>-0.081854</td>\n",
       "      <td>0.069718</td>\n",
       "      <td>0.013144</td>\n",
       "      <td>1.000000</td>\n",
       "      <td>0.066740</td>\n",
       "      <td>-0.027654</td>\n",
       "      <td>NaN</td>\n",
       "      <td>-0.098555</td>\n",
       "      <td>0.057249</td>\n",
       "    </tr>\n",
       "    <tr>\n",
       "      <th>cc</th>\n",
       "      <td>0.126389</td>\n",
       "      <td>-0.098084</td>\n",
       "      <td>0.102683</td>\n",
       "      <td>-0.277239</td>\n",
       "      <td>0.035856</td>\n",
       "      <td>0.066740</td>\n",
       "      <td>1.000000</td>\n",
       "      <td>0.079903</td>\n",
       "      <td>NaN</td>\n",
       "      <td>0.014629</td>\n",
       "      <td>0.335637</td>\n",
       "    </tr>\n",
       "    <tr>\n",
       "      <th>Doors</th>\n",
       "      <td>0.185326</td>\n",
       "      <td>-0.148359</td>\n",
       "      <td>-0.036197</td>\n",
       "      <td>-0.026935</td>\n",
       "      <td>0.092424</td>\n",
       "      <td>-0.027654</td>\n",
       "      <td>0.079903</td>\n",
       "      <td>1.000000</td>\n",
       "      <td>NaN</td>\n",
       "      <td>-0.160141</td>\n",
       "      <td>0.302618</td>\n",
       "    </tr>\n",
       "    <tr>\n",
       "      <th>Cylinders</th>\n",
       "      <td>NaN</td>\n",
       "      <td>NaN</td>\n",
       "      <td>NaN</td>\n",
       "      <td>NaN</td>\n",
       "      <td>NaN</td>\n",
       "      <td>NaN</td>\n",
       "      <td>NaN</td>\n",
       "      <td>NaN</td>\n",
       "      <td>NaN</td>\n",
       "      <td>NaN</td>\n",
       "      <td>NaN</td>\n",
       "    </tr>\n",
       "    <tr>\n",
       "      <th>Gears</th>\n",
       "      <td>0.063104</td>\n",
       "      <td>-0.005364</td>\n",
       "      <td>0.015023</td>\n",
       "      <td>0.069655</td>\n",
       "      <td>0.209477</td>\n",
       "      <td>-0.098555</td>\n",
       "      <td>0.014629</td>\n",
       "      <td>-0.160141</td>\n",
       "      <td>NaN</td>\n",
       "      <td>1.000000</td>\n",
       "      <td>0.020613</td>\n",
       "    </tr>\n",
       "    <tr>\n",
       "      <th>Weight</th>\n",
       "      <td>0.581198</td>\n",
       "      <td>-0.470253</td>\n",
       "      <td>-0.028598</td>\n",
       "      <td>-0.505303</td>\n",
       "      <td>0.089614</td>\n",
       "      <td>0.057249</td>\n",
       "      <td>0.335637</td>\n",
       "      <td>0.302618</td>\n",
       "      <td>NaN</td>\n",
       "      <td>0.020613</td>\n",
       "      <td>1.000000</td>\n",
       "    </tr>\n",
       "  </tbody>\n",
       "</table>\n",
       "</div>"
      ],
      "text/plain": [
       "              Price  Age_08_04        KM  Fuel_Type        HP  Automatic  \\\n",
       "Price      1.000000  -0.876590 -0.569960  -0.022157  0.314990   0.033081   \n",
       "Age_08_04 -0.876590   1.000000  0.505672   0.080261 -0.156622   0.031717   \n",
       "KM        -0.569960   0.505672  1.000000  -0.420586 -0.333538  -0.081854   \n",
       "Fuel_Type -0.022157   0.080261 -0.420586   1.000000  0.409476   0.069718   \n",
       "HP         0.314990  -0.156622 -0.333538   0.409476  1.000000   0.013144   \n",
       "Automatic  0.033081   0.031717 -0.081854   0.069718  0.013144   1.000000   \n",
       "cc         0.126389  -0.098084  0.102683  -0.277239  0.035856   0.066740   \n",
       "Doors      0.185326  -0.148359 -0.036197  -0.026935  0.092424  -0.027654   \n",
       "Cylinders       NaN        NaN       NaN        NaN       NaN        NaN   \n",
       "Gears      0.063104  -0.005364  0.015023   0.069655  0.209477  -0.098555   \n",
       "Weight     0.581198  -0.470253 -0.028598  -0.505303  0.089614   0.057249   \n",
       "\n",
       "                 cc     Doors  Cylinders     Gears    Weight  \n",
       "Price      0.126389  0.185326        NaN  0.063104  0.581198  \n",
       "Age_08_04 -0.098084 -0.148359        NaN -0.005364 -0.470253  \n",
       "KM         0.102683 -0.036197        NaN  0.015023 -0.028598  \n",
       "Fuel_Type -0.277239 -0.026935        NaN  0.069655 -0.505303  \n",
       "HP         0.035856  0.092424        NaN  0.209477  0.089614  \n",
       "Automatic  0.066740 -0.027654        NaN -0.098555  0.057249  \n",
       "cc         1.000000  0.079903        NaN  0.014629  0.335637  \n",
       "Doors      0.079903  1.000000        NaN -0.160141  0.302618  \n",
       "Cylinders       NaN       NaN        NaN       NaN       NaN  \n",
       "Gears      0.014629 -0.160141        NaN  1.000000  0.020613  \n",
       "Weight     0.335637  0.302618        NaN  0.020613  1.000000  "
      ]
     },
     "execution_count": 10,
     "metadata": {},
     "output_type": "execute_result"
    }
   ],
   "source": [
    "corr = data.corr()\n",
    "corr"
   ]
  },
  {
   "cell_type": "code",
   "execution_count": null,
   "id": "11e51f74-809e-4678-ab06-e37bc07719e7",
   "metadata": {},
   "outputs": [
    {
     "name": "stderr",
     "output_type": "stream",
     "text": [
      "C:\\Users\\dell\\anaconda3\\Lib\\site-packages\\seaborn\\_oldcore.py:1119: FutureWarning: use_inf_as_na option is deprecated and will be removed in a future version. Convert inf values to NaN before operating instead.\n",
      "  with pd.option_context('mode.use_inf_as_na', True):\n",
      "C:\\Users\\dell\\anaconda3\\Lib\\site-packages\\seaborn\\_oldcore.py:1119: FutureWarning: use_inf_as_na option is deprecated and will be removed in a future version. Convert inf values to NaN before operating instead.\n",
      "  with pd.option_context('mode.use_inf_as_na', True):\n",
      "C:\\Users\\dell\\anaconda3\\Lib\\site-packages\\seaborn\\_oldcore.py:1119: FutureWarning: use_inf_as_na option is deprecated and will be removed in a future version. Convert inf values to NaN before operating instead.\n",
      "  with pd.option_context('mode.use_inf_as_na', True):\n",
      "C:\\Users\\dell\\anaconda3\\Lib\\site-packages\\seaborn\\_oldcore.py:1119: FutureWarning: use_inf_as_na option is deprecated and will be removed in a future version. Convert inf values to NaN before operating instead.\n",
      "  with pd.option_context('mode.use_inf_as_na', True):\n",
      "C:\\Users\\dell\\anaconda3\\Lib\\site-packages\\seaborn\\_oldcore.py:1119: FutureWarning: use_inf_as_na option is deprecated and will be removed in a future version. Convert inf values to NaN before operating instead.\n",
      "  with pd.option_context('mode.use_inf_as_na', True):\n",
      "C:\\Users\\dell\\anaconda3\\Lib\\site-packages\\seaborn\\_oldcore.py:1119: FutureWarning: use_inf_as_na option is deprecated and will be removed in a future version. Convert inf values to NaN before operating instead.\n",
      "  with pd.option_context('mode.use_inf_as_na', True):\n",
      "C:\\Users\\dell\\anaconda3\\Lib\\site-packages\\seaborn\\_oldcore.py:1119: FutureWarning: use_inf_as_na option is deprecated and will be removed in a future version. Convert inf values to NaN before operating instead.\n",
      "  with pd.option_context('mode.use_inf_as_na', True):\n",
      "C:\\Users\\dell\\anaconda3\\Lib\\site-packages\\seaborn\\_oldcore.py:1119: FutureWarning: use_inf_as_na option is deprecated and will be removed in a future version. Convert inf values to NaN before operating instead.\n",
      "  with pd.option_context('mode.use_inf_as_na', True):\n",
      "C:\\Users\\dell\\anaconda3\\Lib\\site-packages\\seaborn\\_oldcore.py:1119: FutureWarning: use_inf_as_na option is deprecated and will be removed in a future version. Convert inf values to NaN before operating instead.\n",
      "  with pd.option_context('mode.use_inf_as_na', True):\n",
      "C:\\Users\\dell\\anaconda3\\Lib\\site-packages\\seaborn\\_oldcore.py:1119: FutureWarning: use_inf_as_na option is deprecated and will be removed in a future version. Convert inf values to NaN before operating instead.\n",
      "  with pd.option_context('mode.use_inf_as_na', True):\n",
      "C:\\Users\\dell\\anaconda3\\Lib\\site-packages\\seaborn\\_oldcore.py:1119: FutureWarning: use_inf_as_na option is deprecated and will be removed in a future version. Convert inf values to NaN before operating instead.\n",
      "  with pd.option_context('mode.use_inf_as_na', True):\n"
     ]
    }
   ],
   "source": [
    "sns.pairplot(data)\n",
    "plt.show()"
   ]
  },
  {
   "cell_type": "code",
   "execution_count": 13,
   "id": "4c5e8911-d150-4187-b197-c024ae7a27a1",
   "metadata": {},
   "outputs": [
    {
     "name": "stdout",
     "output_type": "stream",
     "text": [
      "(1436, 10)\n",
      "(1436,)\n"
     ]
    }
   ],
   "source": [
    "X_features = data.drop(['Price'], axis = 1)\n",
    "X_features.shape\n",
    "\n",
    "X = sm.add_constant(X_features)\n",
    "print(X.shape)\n",
    "\n",
    "y = data['Price']\n",
    "print(y.shape)"
   ]
  },
  {
   "cell_type": "code",
   "execution_count": 21,
   "id": "b08bea64-8eb0-4bfc-9d5e-15c5e1643d8a",
   "metadata": {},
   "outputs": [
    {
     "name": "stdout",
     "output_type": "stream",
     "text": [
      "1436\n",
      "(1148, 10) (288, 10)\n",
      "(1148,) (288,)\n"
     ]
    }
   ],
   "source": [
    "train_X, test_X, train_y, test_y = train_test_split(X,y, train_size = 0.8, random_state=1000)\n",
    "print(len(data))\n",
    "print(train_X.shape, test_X.shape)\n",
    "print(train_y.shape, test_y.shape)"
   ]
  },
  {
   "cell_type": "code",
   "execution_count": 23,
   "id": "1d1a0f01-a3c7-4068-b4d5-dfe1d067de39",
   "metadata": {},
   "outputs": [
    {
     "data": {
      "text/plain": [
       "0.8640144735359777"
      ]
     },
     "execution_count": 23,
     "metadata": {},
     "output_type": "execute_result"
    }
   ],
   "source": [
    "mlr_model = sm.OLS(train_y, train_X).fit()\n",
    "mlr_model.rsquared"
   ]
  },
  {
   "cell_type": "code",
   "execution_count": 24,
   "id": "3e217ed0-8310-4cbf-89bc-8d5a6b7980b7",
   "metadata": {},
   "outputs": [
    {
     "data": {
      "text/html": [
       "<table class=\"simpletable\">\n",
       "<tr>\n",
       "        <td>Model:</td>               <td>OLS</td>         <td>Adj. R-squared:</td>      <td>0.863</td>  \n",
       "</tr>\n",
       "<tr>\n",
       "  <td>Dependent Variable:</td>       <td>Price</td>             <td>AIC:</td>         <td>19800.2035</td>\n",
       "</tr>\n",
       "<tr>\n",
       "         <td>Date:</td>        <td>2024-07-08 21:04</td>        <td>BIC:</td>         <td>19850.6612</td>\n",
       "</tr>\n",
       "<tr>\n",
       "   <td>No. Observations:</td>        <td>1148</td>         <td>Log-Likelihood:</td>     <td>-9890.1</td> \n",
       "</tr>\n",
       "<tr>\n",
       "       <td>Df Model:</td>              <td>9</td>           <td>F-statistic:</td>        <td>803.4</td>  \n",
       "</tr>\n",
       "<tr>\n",
       "     <td>Df Residuals:</td>          <td>1138</td>       <td>Prob (F-statistic):</td>    <td>0.00</td>   \n",
       "</tr>\n",
       "<tr>\n",
       "      <td>R-squared:</td>            <td>0.864</td>            <td>Scale:</td>        <td>1.7959e+06</td>\n",
       "</tr>\n",
       "</table>\n",
       "<table class=\"simpletable\">\n",
       "<tr>\n",
       "      <td></td>         <th>Coef.</th>   <th>Std.Err.</th>     <th>t</th>     <th>P>|t|</th>   <th>[0.025</th>     <th>0.975]</th>  \n",
       "</tr>\n",
       "<tr>\n",
       "  <th>Age_08_04</th>  <td>-124.2344</td>  <td>2.9258</td>  <td>-42.4612</td> <td>0.0000</td>  <td>-129.9750</td>  <td>-118.4937</td>\n",
       "</tr>\n",
       "<tr>\n",
       "  <th>KM</th>          <td>-0.0181</td>   <td>0.0015</td>  <td>-11.9850</td> <td>0.0000</td>   <td>-0.0210</td>    <td>-0.0151</td> \n",
       "</tr>\n",
       "<tr>\n",
       "  <th>Fuel_Type</th>  <td>417.1900</td>  <td>159.5291</td>  <td>2.6151</td>  <td>0.0090</td>  <td>104.1858</td>   <td>730.1942</td> \n",
       "</tr>\n",
       "<tr>\n",
       "  <th>HP</th>          <td>23.3328</td>   <td>3.2408</td>   <td>7.1997</td>  <td>0.0000</td>   <td>16.9742</td>    <td>29.6914</td> \n",
       "</tr>\n",
       "<tr>\n",
       "  <th>Automatic</th>  <td>346.3286</td>  <td>183.5821</td>  <td>1.8865</td>  <td>0.0595</td>  <td>-13.8688</td>   <td>706.5260</td> \n",
       "</tr>\n",
       "<tr>\n",
       "  <th>cc</th>          <td>-0.0141</td>   <td>0.0910</td>   <td>-0.1556</td> <td>0.8764</td>   <td>-0.1926</td>    <td>0.1643</td>  \n",
       "</tr>\n",
       "<tr>\n",
       "  <th>Doors</th>      <td>-27.5858</td>   <td>45.4163</td>  <td>-0.6074</td> <td>0.5437</td>  <td>-116.6948</td>   <td>61.5233</td> \n",
       "</tr>\n",
       "<tr>\n",
       "  <th>Cylinders</th> <td>-2025.3296</td> <td>422.5942</td>  <td>-4.7926</td> <td>0.0000</td> <td>-2854.4809</td> <td>-1196.1783</td>\n",
       "</tr>\n",
       "<tr>\n",
       "  <th>Gears</th>      <td>550.6485</td>  <td>235.5011</td>  <td>2.3382</td>  <td>0.0195</td>   <td>88.5834</td>   <td>1012.7137</td>\n",
       "</tr>\n",
       "<tr>\n",
       "  <th>Weight</th>      <td>19.7911</td>   <td>1.1056</td>   <td>17.9004</td> <td>0.0000</td>   <td>17.6218</td>    <td>21.9604</td> \n",
       "</tr>\n",
       "</table>\n",
       "<table class=\"simpletable\">\n",
       "<tr>\n",
       "     <td>Omnibus:</td>    <td>196.296</td>  <td>Durbin-Watson:</td>     <td>2.056</td> \n",
       "</tr>\n",
       "<tr>\n",
       "  <td>Prob(Omnibus):</td>  <td>0.000</td>  <td>Jarque-Bera (JB):</td> <td>1700.614</td>\n",
       "</tr>\n",
       "<tr>\n",
       "       <td>Skew:</td>     <td>-0.513</td>      <td>Prob(JB):</td>       <td>0.000</td> \n",
       "</tr>\n",
       "<tr>\n",
       "     <td>Kurtosis:</td>    <td>8.874</td>   <td>Condition No.:</td>    <td>896303</td> \n",
       "</tr>\n",
       "</table><br/>\n",
       "Notes:<br/>\n",
       "[1] Standard Errors assume that the covariance matrix of the errors is correctly specified.<br/>\n",
       "[2] The condition number is large, 8.96e+05. This might indicate                that there are strong multicollinearity or other numerical                problems."
      ],
      "text/latex": [
       "\\begin{table}\n",
       "\\caption{Results: Ordinary least squares}\n",
       "\\label{}\n",
       "\\begin{center}\n",
       "\\begin{tabular}{llll}\n",
       "\\hline\n",
       "Model:              & OLS              & Adj. R-squared:     & 0.863       \\\\\n",
       "Dependent Variable: & Price            & AIC:                & 19800.2035  \\\\\n",
       "Date:               & 2024-07-08 21:04 & BIC:                & 19850.6612  \\\\\n",
       "No. Observations:   & 1148             & Log-Likelihood:     & -9890.1     \\\\\n",
       "Df Model:           & 9                & F-statistic:        & 803.4       \\\\\n",
       "Df Residuals:       & 1138             & Prob (F-statistic): & 0.00        \\\\\n",
       "R-squared:          & 0.864            & Scale:              & 1.7959e+06  \\\\\n",
       "\\hline\n",
       "\\end{tabular}\n",
       "\\end{center}\n",
       "\n",
       "\\begin{center}\n",
       "\\begin{tabular}{lrrrrrr}\n",
       "\\hline\n",
       "            &      Coef. & Std.Err. &        t & P$> |$t$|$ &     [0.025 &     0.975]  \\\\\n",
       "\\hline\n",
       "Age\\_08\\_04 &  -124.2344 &   2.9258 & -42.4612 &      0.0000 &  -129.9750 &  -118.4937  \\\\\n",
       "KM          &    -0.0181 &   0.0015 & -11.9850 &      0.0000 &    -0.0210 &    -0.0151  \\\\\n",
       "Fuel\\_Type  &   417.1900 & 159.5291 &   2.6151 &      0.0090 &   104.1858 &   730.1942  \\\\\n",
       "HP          &    23.3328 &   3.2408 &   7.1997 &      0.0000 &    16.9742 &    29.6914  \\\\\n",
       "Automatic   &   346.3286 & 183.5821 &   1.8865 &      0.0595 &   -13.8688 &   706.5260  \\\\\n",
       "cc          &    -0.0141 &   0.0910 &  -0.1556 &      0.8764 &    -0.1926 &     0.1643  \\\\\n",
       "Doors       &   -27.5858 &  45.4163 &  -0.6074 &      0.5437 &  -116.6948 &    61.5233  \\\\\n",
       "Cylinders   & -2025.3296 & 422.5942 &  -4.7926 &      0.0000 & -2854.4809 & -1196.1783  \\\\\n",
       "Gears       &   550.6485 & 235.5011 &   2.3382 &      0.0195 &    88.5834 &  1012.7137  \\\\\n",
       "Weight      &    19.7911 &   1.1056 &  17.9004 &      0.0000 &    17.6218 &    21.9604  \\\\\n",
       "\\hline\n",
       "\\end{tabular}\n",
       "\\end{center}\n",
       "\n",
       "\\begin{center}\n",
       "\\begin{tabular}{llll}\n",
       "\\hline\n",
       "Omnibus:       & 196.296 & Durbin-Watson:    & 2.056     \\\\\n",
       "Prob(Omnibus): & 0.000   & Jarque-Bera (JB): & 1700.614  \\\\\n",
       "Skew:          & -0.513  & Prob(JB):         & 0.000     \\\\\n",
       "Kurtosis:      & 8.874   & Condition No.:    & 896303    \\\\\n",
       "\\hline\n",
       "\\end{tabular}\n",
       "\\end{center}\n",
       "\\end{table}\n",
       "\\bigskip\n",
       "Notes: \\newline \n",
       "[1] Standard Errors assume that the covariance matrix of the errors is correctly specified. \\newline \n",
       "[2] The condition number is large, 8.96e+05. This might indicate                that there are strong multicollinearity or other numerical                problems."
      ],
      "text/plain": [
       "<class 'statsmodels.iolib.summary2.Summary'>\n",
       "\"\"\"\n",
       "                  Results: Ordinary least squares\n",
       "===================================================================\n",
       "Model:              OLS              Adj. R-squared:     0.863     \n",
       "Dependent Variable: Price            AIC:                19800.2035\n",
       "Date:               2024-07-08 21:04 BIC:                19850.6612\n",
       "No. Observations:   1148             Log-Likelihood:     -9890.1   \n",
       "Df Model:           9                F-statistic:        803.4     \n",
       "Df Residuals:       1138             Prob (F-statistic): 0.00      \n",
       "R-squared:          0.864            Scale:              1.7959e+06\n",
       "-------------------------------------------------------------------\n",
       "            Coef.    Std.Err.    t     P>|t|    [0.025     0.975]  \n",
       "-------------------------------------------------------------------\n",
       "Age_08_04  -124.2344   2.9258 -42.4612 0.0000  -129.9750  -118.4937\n",
       "KM           -0.0181   0.0015 -11.9850 0.0000    -0.0210    -0.0151\n",
       "Fuel_Type   417.1900 159.5291   2.6151 0.0090   104.1858   730.1942\n",
       "HP           23.3328   3.2408   7.1997 0.0000    16.9742    29.6914\n",
       "Automatic   346.3286 183.5821   1.8865 0.0595   -13.8688   706.5260\n",
       "cc           -0.0141   0.0910  -0.1556 0.8764    -0.1926     0.1643\n",
       "Doors       -27.5858  45.4163  -0.6074 0.5437  -116.6948    61.5233\n",
       "Cylinders -2025.3296 422.5942  -4.7926 0.0000 -2854.4809 -1196.1783\n",
       "Gears       550.6485 235.5011   2.3382 0.0195    88.5834  1012.7137\n",
       "Weight       19.7911   1.1056  17.9004 0.0000    17.6218    21.9604\n",
       "-------------------------------------------------------------------\n",
       "Omnibus:             196.296       Durbin-Watson:          2.056   \n",
       "Prob(Omnibus):       0.000         Jarque-Bera (JB):       1700.614\n",
       "Skew:                -0.513        Prob(JB):               0.000   \n",
       "Kurtosis:            8.874         Condition No.:          896303  \n",
       "===================================================================\n",
       "Notes:\n",
       "[1] Standard Errors assume that the covariance matrix of the errors\n",
       "is correctly specified.\n",
       "[2] The condition number is large, 8.96e+05. This might indicate\n",
       "that there are strong multicollinearity or other numerical\n",
       "problems.\n",
       "\"\"\""
      ]
     },
     "execution_count": 24,
     "metadata": {},
     "output_type": "execute_result"
    }
   ],
   "source": [
    "mlr_model.summary2()"
   ]
  },
  {
   "cell_type": "code",
   "execution_count": 25,
   "id": "51c6ae0a-e9e0-4682-8b5e-d011805cb429",
   "metadata": {},
   "outputs": [
    {
     "name": "stderr",
     "output_type": "stream",
     "text": [
      "C:\\Users\\dell\\anaconda3\\Lib\\site-packages\\seaborn\\matrix.py:260: FutureWarning: Format strings passed to MaskedConstant are ignored, but in future may error or produce different behavior\n",
      "  annotation = (\"{:\" + self.fmt + \"}\").format(val)\n"
     ]
    },
    {
     "data": {
      "text/plain": [
       "<Axes: >"
      ]
     },
     "execution_count": 25,
     "metadata": {},
     "output_type": "execute_result"
    },
    {
     "data": {
      "image/png": "[encoded data removed]",
      "text/plain": [
       "<Figure size 640x480 with 2 Axes>"
      ]
     },
     "metadata": {},
     "output_type": "display_data"
    }
   ],
   "source": [
    "corr = data.corr()\n",
    "sns.heatmap(corr, annot=True)"
   ]
  },
  {
   "cell_type": "code",
   "execution_count": 26,
   "id": "120f3fec-5a89-4c51-8b6b-ece7dfee694a",
   "metadata": {},
   "outputs": [],
   "source": [
    "#Vif calculator for features\n",
    "from statsmodels.stats.outliers_influence import variance_inflation_factor \n",
    "def calc_vif(X):\n",
    "    vif = pd.DataFrame()\n",
    "    vif['Variables'] = X.columns\n",
    "    vif['VIF'] = [variance_inflation_factor(X.values,i)for i in range(X.shape[1])]\n",
    "    return(vif)"
   ]
  },
  {
   "cell_type": "code",
   "execution_count": 27,
   "id": "d13dc213-a48a-4ddd-a97a-db8f7673832e",
   "metadata": {},
   "outputs": [
    {
     "data": {
      "text/html": [
       "<div>\n",
       "<style scoped>\n",
       "    .dataframe tbody tr th:only-of-type {\n",
       "        vertical-align: middle;\n",
       "    }\n",
       "\n",
       "    .dataframe tbody tr th {\n",
       "        vertical-align: top;\n",
       "    }\n",
       "\n",
       "    .dataframe thead th {\n",
       "        text-align: right;\n",
       "    }\n",
       "</style>\n",
       "<table border=\"1\" class=\"dataframe\">\n",
       "  <thead>\n",
       "    <tr style=\"text-align: right;\">\n",
       "      <th></th>\n",
       "      <th>Variables</th>\n",
       "      <th>VIF</th>\n",
       "    </tr>\n",
       "  </thead>\n",
       "  <tbody>\n",
       "    <tr>\n",
       "      <th>0</th>\n",
       "      <td>Age_08_04</td>\n",
       "      <td>1.918394</td>\n",
       "    </tr>\n",
       "    <tr>\n",
       "      <th>1</th>\n",
       "      <td>KM</td>\n",
       "      <td>1.946100</td>\n",
       "    </tr>\n",
       "    <tr>\n",
       "      <th>2</th>\n",
       "      <td>Fuel_Type</td>\n",
       "      <td>2.379914</td>\n",
       "    </tr>\n",
       "    <tr>\n",
       "      <th>3</th>\n",
       "      <td>HP</td>\n",
       "      <td>1.488481</td>\n",
       "    </tr>\n",
       "    <tr>\n",
       "      <th>4</th>\n",
       "      <td>Automatic</td>\n",
       "      <td>1.062652</td>\n",
       "    </tr>\n",
       "    <tr>\n",
       "      <th>5</th>\n",
       "      <td>cc</td>\n",
       "      <td>1.168921</td>\n",
       "    </tr>\n",
       "    <tr>\n",
       "      <th>6</th>\n",
       "      <td>Doors</td>\n",
       "      <td>1.186610</td>\n",
       "    </tr>\n",
       "    <tr>\n",
       "      <th>7</th>\n",
       "      <td>Cylinders</td>\n",
       "      <td>1756.548275</td>\n",
       "    </tr>\n",
       "    <tr>\n",
       "      <th>8</th>\n",
       "      <td>Gears</td>\n",
       "      <td>1.113522</td>\n",
       "    </tr>\n",
       "    <tr>\n",
       "      <th>9</th>\n",
       "      <td>Weight</td>\n",
       "      <td>2.327003</td>\n",
       "    </tr>\n",
       "  </tbody>\n",
       "</table>\n",
       "</div>"
      ],
      "text/plain": [
       "   Variables          VIF\n",
       "0  Age_08_04     1.918394\n",
       "1         KM     1.946100\n",
       "2  Fuel_Type     2.379914\n",
       "3         HP     1.488481\n",
       "4  Automatic     1.062652\n",
       "5         cc     1.168921\n",
       "6      Doors     1.186610\n",
       "7  Cylinders  1756.548275\n",
       "8      Gears     1.113522\n",
       "9     Weight     2.327003"
      ]
     },
     "execution_count": 27,
     "metadata": {},
     "output_type": "execute_result"
    }
   ],
   "source": [
    "calc_vif(X)"
   ]
  },
  {
   "cell_type": "code",
   "execution_count": 28,
   "id": "b387c6b2-eff0-40f8-bd71-dd64cafd1f1d",
   "metadata": {},
   "outputs": [
    {
     "data": {
      "text/html": [
       "<div>\n",
       "<style scoped>\n",
       "    .dataframe tbody tr th:only-of-type {\n",
       "        vertical-align: middle;\n",
       "    }\n",
       "\n",
       "    .dataframe tbody tr th {\n",
       "        vertical-align: top;\n",
       "    }\n",
       "\n",
       "    .dataframe thead th {\n",
       "        text-align: right;\n",
       "    }\n",
       "</style>\n",
       "<table border=\"1\" class=\"dataframe\">\n",
       "  <thead>\n",
       "    <tr style=\"text-align: right;\">\n",
       "      <th></th>\n",
       "      <th>Age_08_04</th>\n",
       "      <th>Fuel_Type</th>\n",
       "      <th>HP</th>\n",
       "      <th>Automatic</th>\n",
       "      <th>cc</th>\n",
       "      <th>Doors</th>\n",
       "      <th>Gears</th>\n",
       "      <th>Weight</th>\n",
       "    </tr>\n",
       "  </thead>\n",
       "  <tbody>\n",
       "    <tr>\n",
       "      <th>0</th>\n",
       "      <td>23</td>\n",
       "      <td>1</td>\n",
       "      <td>90</td>\n",
       "      <td>0</td>\n",
       "      <td>2000</td>\n",
       "      <td>3</td>\n",
       "      <td>5</td>\n",
       "      <td>1165</td>\n",
       "    </tr>\n",
       "    <tr>\n",
       "      <th>1</th>\n",
       "      <td>23</td>\n",
       "      <td>1</td>\n",
       "      <td>90</td>\n",
       "      <td>0</td>\n",
       "      <td>2000</td>\n",
       "      <td>3</td>\n",
       "      <td>5</td>\n",
       "      <td>1165</td>\n",
       "    </tr>\n",
       "    <tr>\n",
       "      <th>2</th>\n",
       "      <td>24</td>\n",
       "      <td>1</td>\n",
       "      <td>90</td>\n",
       "      <td>0</td>\n",
       "      <td>2000</td>\n",
       "      <td>3</td>\n",
       "      <td>5</td>\n",
       "      <td>1165</td>\n",
       "    </tr>\n",
       "    <tr>\n",
       "      <th>3</th>\n",
       "      <td>26</td>\n",
       "      <td>1</td>\n",
       "      <td>90</td>\n",
       "      <td>0</td>\n",
       "      <td>2000</td>\n",
       "      <td>3</td>\n",
       "      <td>5</td>\n",
       "      <td>1165</td>\n",
       "    </tr>\n",
       "    <tr>\n",
       "      <th>4</th>\n",
       "      <td>30</td>\n",
       "      <td>1</td>\n",
       "      <td>90</td>\n",
       "      <td>0</td>\n",
       "      <td>2000</td>\n",
       "      <td>3</td>\n",
       "      <td>5</td>\n",
       "      <td>1170</td>\n",
       "    </tr>\n",
       "    <tr>\n",
       "      <th>...</th>\n",
       "      <td>...</td>\n",
       "      <td>...</td>\n",
       "      <td>...</td>\n",
       "      <td>...</td>\n",
       "      <td>...</td>\n",
       "      <td>...</td>\n",
       "      <td>...</td>\n",
       "      <td>...</td>\n",
       "    </tr>\n",
       "    <tr>\n",
       "      <th>1431</th>\n",
       "      <td>69</td>\n",
       "      <td>2</td>\n",
       "      <td>86</td>\n",
       "      <td>0</td>\n",
       "      <td>1300</td>\n",
       "      <td>3</td>\n",
       "      <td>5</td>\n",
       "      <td>1025</td>\n",
       "    </tr>\n",
       "    <tr>\n",
       "      <th>1432</th>\n",
       "      <td>72</td>\n",
       "      <td>2</td>\n",
       "      <td>86</td>\n",
       "      <td>0</td>\n",
       "      <td>1300</td>\n",
       "      <td>3</td>\n",
       "      <td>5</td>\n",
       "      <td>1015</td>\n",
       "    </tr>\n",
       "    <tr>\n",
       "      <th>1433</th>\n",
       "      <td>71</td>\n",
       "      <td>2</td>\n",
       "      <td>86</td>\n",
       "      <td>0</td>\n",
       "      <td>1300</td>\n",
       "      <td>3</td>\n",
       "      <td>5</td>\n",
       "      <td>1015</td>\n",
       "    </tr>\n",
       "    <tr>\n",
       "      <th>1434</th>\n",
       "      <td>70</td>\n",
       "      <td>2</td>\n",
       "      <td>86</td>\n",
       "      <td>0</td>\n",
       "      <td>1300</td>\n",
       "      <td>3</td>\n",
       "      <td>5</td>\n",
       "      <td>1015</td>\n",
       "    </tr>\n",
       "    <tr>\n",
       "      <th>1435</th>\n",
       "      <td>76</td>\n",
       "      <td>2</td>\n",
       "      <td>110</td>\n",
       "      <td>0</td>\n",
       "      <td>1600</td>\n",
       "      <td>5</td>\n",
       "      <td>5</td>\n",
       "      <td>1114</td>\n",
       "    </tr>\n",
       "  </tbody>\n",
       "</table>\n",
       "<p>1436 rows × 8 columns</p>\n",
       "</div>"
      ],
      "text/plain": [
       "      Age_08_04  Fuel_Type   HP  Automatic    cc  Doors  Gears  Weight\n",
       "0            23          1   90          0  2000      3      5    1165\n",
       "1            23          1   90          0  2000      3      5    1165\n",
       "2            24          1   90          0  2000      3      5    1165\n",
       "3            26          1   90          0  2000      3      5    1165\n",
       "4            30          1   90          0  2000      3      5    1170\n",
       "...         ...        ...  ...        ...   ...    ...    ...     ...\n",
       "1431         69          2   86          0  1300      3      5    1025\n",
       "1432         72          2   86          0  1300      3      5    1015\n",
       "1433         71          2   86          0  1300      3      5    1015\n",
       "1434         70          2   86          0  1300      3      5    1015\n",
       "1435         76          2  110          0  1600      5      5    1114\n",
       "\n",
       "[1436 rows x 8 columns]"
      ]
     },
     "execution_count": 28,
     "metadata": {},
     "output_type": "execute_result"
    }
   ],
   "source": [
    "X = sm.add_constant(X_features)\n",
    "X = X.drop(['KM','Cylinders'],axis=1)\n",
    "X"
   ]
  },
  {
   "cell_type": "code",
   "execution_count": 29,
   "id": "0c27a8a6-a9f7-4649-b3eb-74af27574330",
   "metadata": {},
   "outputs": [
    {
     "data": {
      "text/html": [
       "<div>\n",
       "<style scoped>\n",
       "    .dataframe tbody tr th:only-of-type {\n",
       "        vertical-align: middle;\n",
       "    }\n",
       "\n",
       "    .dataframe tbody tr th {\n",
       "        vertical-align: top;\n",
       "    }\n",
       "\n",
       "    .dataframe thead th {\n",
       "        text-align: right;\n",
       "    }\n",
       "</style>\n",
       "<table border=\"1\" class=\"dataframe\">\n",
       "  <thead>\n",
       "    <tr style=\"text-align: right;\">\n",
       "      <th></th>\n",
       "      <th>Variables</th>\n",
       "      <th>VIF</th>\n",
       "    </tr>\n",
       "  </thead>\n",
       "  <tbody>\n",
       "    <tr>\n",
       "      <th>0</th>\n",
       "      <td>Age_08_04</td>\n",
       "      <td>11.254804</td>\n",
       "    </tr>\n",
       "    <tr>\n",
       "      <th>1</th>\n",
       "      <td>Fuel_Type</td>\n",
       "      <td>41.105545</td>\n",
       "    </tr>\n",
       "    <tr>\n",
       "      <th>2</th>\n",
       "      <td>HP</td>\n",
       "      <td>65.431410</td>\n",
       "    </tr>\n",
       "    <tr>\n",
       "      <th>3</th>\n",
       "      <td>Automatic</td>\n",
       "      <td>1.113700</td>\n",
       "    </tr>\n",
       "    <tr>\n",
       "      <th>4</th>\n",
       "      <td>cc</td>\n",
       "      <td>17.242294</td>\n",
       "    </tr>\n",
       "    <tr>\n",
       "      <th>5</th>\n",
       "      <td>Doors</td>\n",
       "      <td>22.382680</td>\n",
       "    </tr>\n",
       "    <tr>\n",
       "      <th>6</th>\n",
       "      <td>Gears</td>\n",
       "      <td>515.176645</td>\n",
       "    </tr>\n",
       "    <tr>\n",
       "      <th>7</th>\n",
       "      <td>Weight</td>\n",
       "      <td>463.499119</td>\n",
       "    </tr>\n",
       "  </tbody>\n",
       "</table>\n",
       "</div>"
      ],
      "text/plain": [
       "   Variables         VIF\n",
       "0  Age_08_04   11.254804\n",
       "1  Fuel_Type   41.105545\n",
       "2         HP   65.431410\n",
       "3  Automatic    1.113700\n",
       "4         cc   17.242294\n",
       "5      Doors   22.382680\n",
       "6      Gears  515.176645\n",
       "7     Weight  463.499119"
      ]
     },
     "execution_count": 29,
     "metadata": {},
     "output_type": "execute_result"
    }
   ],
   "source": [
    "calc_vif(X)"
   ]
  },
  {
   "cell_type": "code",
   "execution_count": 30,
   "id": "d3941f1a-2633-4b4c-bb82-7a46b69d2526",
   "metadata": {},
   "outputs": [
    {
     "name": "stdout",
     "output_type": "stream",
     "text": [
      "MLR_Model: 0.8640144735359777\n",
      "mlr_model_8F: 0.9839479142958418\n"
     ]
    }
   ],
   "source": [
    "#Fit the regression model\n",
    "mlr_model_8F = sm.OLS(y,X).fit()\n",
    "print('MLR_Model:',mlr_model.rsquared)\n",
    "print('mlr_model_8F:',mlr_model_8F.rsquared)"
   ]
  },
  {
   "cell_type": "markdown",
   "id": "1f2d9aa5-a272-4dde-818b-87be55e8f86d",
   "metadata": {},
   "source": [
    "# Residual analysis"
   ]
  },
  {
   "cell_type": "code",
   "execution_count": 32,
   "id": "50997365-b14a-4af5-84bf-dcfb98f27c91",
   "metadata": {},
   "outputs": [
    {
     "name": "stderr",
     "output_type": "stream",
     "text": [
      "C:\\Users\\dell\\anaconda3\\Lib\\site-packages\\seaborn\\_oldcore.py:1119: FutureWarning: use_inf_as_na option is deprecated and will be removed in a future version. Convert inf values to NaN before operating instead.\n",
      "  with pd.option_context('mode.use_inf_as_na', True):\n",
      "C:\\Users\\dell\\anaconda3\\Lib\\site-packages\\seaborn\\_oldcore.py:1119: FutureWarning: use_inf_as_na option is deprecated and will be removed in a future version. Convert inf values to NaN before operating instead.\n",
      "  with pd.option_context('mode.use_inf_as_na', True):\n"
     ]
    },
    {
     "data": {
      "image/png": "[encoded data removed]",
      "text/plain": [
       "<Figure size 640x480 with 1 Axes>"
      ]
     },
     "metadata": {},
     "output_type": "display_data"
    }
   ],
   "source": [
    "Residual1 = mlr_model.resid\n",
    "Residual2 = mlr_model_8F.resid\n",
    "sns.kdeplot(Residual1,label = '1st model')\n",
    "sns.kdeplot(Residual2,label = '2nd model')\n",
    "plt.legend()\n",
    "plt.show()"
   ]
  },
  {
   "cell_type": "code",
   "execution_count": 33,
   "id": "9878f7f2-711a-4c0e-b276-44f329331e15",
   "metadata": {},
   "outputs": [
    {
     "data": {
      "image/png": "[encoded data removed]",
      "text/plain": [
       "<Figure size 640x480 with 1 Axes>"
      ]
     },
     "metadata": {},
     "output_type": "display_data"
    },
    {
     "data": {
      "image/png": "[encoded data removed]",
      "text/plain": [
       "<Figure size 640x480 with 1 Axes>"
      ]
     },
     "metadata": {},
     "output_type": "display_data"
    }
   ],
   "source": [
    "#Q-Q plot\n",
    "qqplot = sm.qqplot(Residual1, line = 'q')\n",
    "qqplot1 = sm.qqplot(Residual2, line = 'q')\n",
    "plt.title(\"Normal Q-Qplot of residulas\")\n",
    "plt.show()"
   ]
  },
  {
   "cell_type": "code",
   "execution_count": 35,
   "id": "c29c58f8-615d-4d43-98c5-f8b904a0329c",
   "metadata": {},
   "outputs": [
    {
     "data": {
      "image/png": "[encoded data removed]",
      "text/plain": [
       "<Figure size 640x480 with 1 Axes>"
      ]
     },
     "metadata": {},
     "output_type": "display_data"
    }
   ],
   "source": [
    "#Residual plot\n",
    "plt.scatter(mlr_model.fittedvalues,mlr_model.resid,c = 'r')\n",
    "plt.scatter(mlr_model_8F.fittedvalues,mlr_model_8F.resid,c = 'g')\n",
    "plt.xlabel(\"Standardized Predicted values\")\n",
    "plt.ylabel(\"Standardized Residual values\")\n",
    "plt.show()"
   ]
  },
  {
   "cell_type": "code",
   "execution_count": 38,
   "id": "64b9596b-f02b-416e-a890-b620ea8ae2ec",
   "metadata": {},
   "outputs": [],
   "source": [
    "#Data transformation\n",
    "#TRansformation of data via standardizattion method\n",
    "def standardized_values(vals):\n",
    "    return(vals - vals.mean())/vals.std()"
   ]
  },
  {
   "cell_type": "code",
   "execution_count": 39,
   "id": "3f953592-31e4-4d19-a132-d07cfefd2888",
   "metadata": {},
   "outputs": [
    {
     "name": "stdout",
     "output_type": "stream",
     "text": [
      "      Age_08_04  Fuel_Type        HP  Automatic        cc     Doors     Gears  \\\n",
      "0     -1.771349  -2.337054 -0.767774  -0.242808  0.997072 -1.084761 -0.140376   \n",
      "1     -1.771349  -2.337054 -0.767774  -0.242808  0.997072 -1.084761 -0.140376   \n",
      "2     -1.717586  -2.337054 -0.767774  -0.242808  0.997072 -1.084761 -0.140376   \n",
      "3     -1.610059  -2.337054 -0.767774  -0.242808  0.997072 -1.084761 -0.140376   \n",
      "4     -1.395005  -2.337054 -0.767774  -0.242808  0.997072 -1.084761 -0.140376   \n",
      "...         ...        ...       ...        ...       ...       ...       ...   \n",
      "1431   0.701771   0.354213 -1.034778  -0.242808 -0.652367 -1.084761 -0.140376   \n",
      "1432   0.863061   0.354213 -1.034778  -0.242808 -0.652367 -1.084761 -0.140376   \n",
      "1433   0.809298   0.354213 -1.034778  -0.242808 -0.652367 -1.084761 -0.140376   \n",
      "1434   0.755534   0.354213 -1.034778  -0.242808 -0.652367 -1.084761 -0.140376   \n",
      "1435   1.078115   0.354213  0.567243  -0.242808  0.054536  1.014588 -0.140376   \n",
      "\n",
      "        Weight  \n",
      "0     1.757949  \n",
      "1     1.757949  \n",
      "2     1.757949  \n",
      "3     1.757949  \n",
      "4     1.852931  \n",
      "...        ...  \n",
      "1431 -0.901569  \n",
      "1432 -1.091535  \n",
      "1433 -1.091535  \n",
      "1434 -1.091535  \n",
      "1435  0.789124  \n",
      "\n",
      "[1436 rows x 8 columns]\n"
     ]
    }
   ],
   "source": [
    "X_standr = standardized_values(X)\n",
    "print(X_standr)"
   ]
  },
  {
   "cell_type": "code",
   "execution_count": 40,
   "id": "fbfc372c-a025-4d03-a4e8-f8e891f10b3f",
   "metadata": {},
   "outputs": [
    {
     "data": {
      "text/plain": [
       "(Age_08_04   -0.0\n",
       " Fuel_Type    0.0\n",
       " HP          -0.0\n",
       " Automatic   -0.0\n",
       " cc           0.0\n",
       " Doors       -0.0\n",
       " Gears       -0.0\n",
       " Weight      -0.0\n",
       " dtype: float64,\n",
       " Age_08_04    1.0\n",
       " Fuel_Type    1.0\n",
       " HP           1.0\n",
       " Automatic    1.0\n",
       " cc           1.0\n",
       " Doors        1.0\n",
       " Gears        1.0\n",
       " Weight       1.0\n",
       " dtype: float64)"
      ]
     },
     "execution_count": 40,
     "metadata": {},
     "output_type": "execute_result"
    }
   ],
   "source": [
    "round(X_standr.mean()),round(X_standr.std()) # standard normal with mean 0and sd 1"
   ]
  },
  {
   "cell_type": "code",
   "execution_count": 41,
   "id": "b133bf21-6215-4ca5-9da0-fc09d6a06b31",
   "metadata": {},
   "outputs": [
    {
     "name": "stdout",
     "output_type": "stream",
     "text": [
      "      Age_08_04  Fuel_Type        HP  Automatic        cc     Doors     Gears  \\\n",
      "0     -1.771349  -2.337054 -0.767774  -0.242808  0.997072 -1.084761 -0.140376   \n",
      "1     -1.771349  -2.337054 -0.767774  -0.242808  0.997072 -1.084761 -0.140376   \n",
      "2     -1.717586  -2.337054 -0.767774  -0.242808  0.997072 -1.084761 -0.140376   \n",
      "3     -1.610059  -2.337054 -0.767774  -0.242808  0.997072 -1.084761 -0.140376   \n",
      "4     -1.395005  -2.337054 -0.767774  -0.242808  0.997072 -1.084761 -0.140376   \n",
      "...         ...        ...       ...        ...       ...       ...       ...   \n",
      "1431   0.701771   0.354213 -1.034778  -0.242808 -0.652367 -1.084761 -0.140376   \n",
      "1432   0.863061   0.354213 -1.034778  -0.242808 -0.652367 -1.084761 -0.140376   \n",
      "1433   0.809298   0.354213 -1.034778  -0.242808 -0.652367 -1.084761 -0.140376   \n",
      "1434   0.755534   0.354213 -1.034778  -0.242808 -0.652367 -1.084761 -0.140376   \n",
      "1435   1.078115   0.354213  0.567243  -0.242808  0.054536  1.014588 -0.140376   \n",
      "\n",
      "        Weight  \n",
      "0     1.757949  \n",
      "1     1.757949  \n",
      "2     1.757949  \n",
      "3     1.757949  \n",
      "4     1.852931  \n",
      "...        ...  \n",
      "1431 -0.901569  \n",
      "1432 -1.091535  \n",
      "1433 -1.091535  \n",
      "1434 -1.091535  \n",
      "1435  0.789124  \n",
      "\n",
      "[1436 rows x 8 columns]\n"
     ]
    }
   ],
   "source": [
    "#X_standr = sm.add_constant(X_standr)\n",
    "print(X_standr)\n",
    "y_standr = standardized_values(y)"
   ]
  },
  {
   "cell_type": "code",
   "execution_count": 42,
   "id": "816392e3-ba55-45bd-8f5b-89b2eb4bc9b8",
   "metadata": {},
   "outputs": [
    {
     "data": {
      "text/plain": [
       "((1436, 8), (1436,))"
      ]
     },
     "execution_count": 42,
     "metadata": {},
     "output_type": "execute_result"
    }
   ],
   "source": [
    "X_standr.shape, y_standr.shape"
   ]
  },
  {
   "cell_type": "markdown",
   "id": "ed663f61-024c-4f36-9efe-4bf9d2c8ed8b",
   "metadata": {},
   "source": [
    "# Fit the regression model"
   ]
  },
  {
   "cell_type": "code",
   "execution_count": 43,
   "id": "6fdd76f0-6677-48c9-a93e-663ed2b7d3d3",
   "metadata": {},
   "outputs": [
    {
     "name": "stdout",
     "output_type": "stream",
     "text": [
      "MLR Model: 0.8480061670087529\n",
      "MLR Model_2: 0.9839479142958418\n"
     ]
    }
   ],
   "source": [
    "mlr_model_3 = sm.OLS(y_standr,X_standr).fit()\n",
    "print(\"MLR Model:\",mlr_model_3.rsquared)\n",
    "print(\"MLR Model_2:\",mlr_model_8F.rsquared) "
   ]
  },
  {
   "cell_type": "code",
   "execution_count": 44,
   "id": "f9d21b3e-0bc3-437f-8e52-cd20a01220ad",
   "metadata": {},
   "outputs": [
    {
     "name": "stdout",
     "output_type": "stream",
     "text": [
      "MLR Model: 0.847154660941575\n",
      "MLR Model_2: 0.9838579866448381\n"
     ]
    }
   ],
   "source": [
    "mlr_model_3 = sm.OLS(y_standr,X_standr).fit()\n",
    "print(\"MLR Model:\",mlr_model_3.rsquared_adj)\n",
    "print(\"MLR Model_2:\",mlr_model_8F.rsquared_adj)"
   ]
  },
  {
   "cell_type": "markdown",
   "id": "16ffaff4-51b1-42d6-ae2a-baca2ac6631d",
   "metadata": {},
   "source": [
    "# Outlier analysis"
   ]
  },
  {
   "cell_type": "code",
   "execution_count": 45,
   "id": "1b1b792b-90b1-4109-a537-d6ec96a27dfe",
   "metadata": {},
   "outputs": [
    {
     "data": {
      "text/html": [
       "<div>\n",
       "<style scoped>\n",
       "    .dataframe tbody tr th:only-of-type {\n",
       "        vertical-align: middle;\n",
       "    }\n",
       "\n",
       "    .dataframe tbody tr th {\n",
       "        vertical-align: top;\n",
       "    }\n",
       "\n",
       "    .dataframe thead th {\n",
       "        text-align: right;\n",
       "    }\n",
       "</style>\n",
       "<table border=\"1\" class=\"dataframe\">\n",
       "  <thead>\n",
       "    <tr style=\"text-align: right;\">\n",
       "      <th></th>\n",
       "      <th>Age_08_04</th>\n",
       "      <th>Fuel_Type</th>\n",
       "      <th>HP</th>\n",
       "      <th>Automatic</th>\n",
       "      <th>cc</th>\n",
       "      <th>Doors</th>\n",
       "      <th>Gears</th>\n",
       "      <th>Weight</th>\n",
       "      <th>influence</th>\n",
       "    </tr>\n",
       "  </thead>\n",
       "  <tbody>\n",
       "    <tr>\n",
       "      <th>0</th>\n",
       "      <td>-1.771349</td>\n",
       "      <td>-2.337054</td>\n",
       "      <td>-0.767774</td>\n",
       "      <td>-0.242808</td>\n",
       "      <td>0.997072</td>\n",
       "      <td>-1.084761</td>\n",
       "      <td>-0.140376</td>\n",
       "      <td>1.757949</td>\n",
       "      <td>2.536538e-03</td>\n",
       "    </tr>\n",
       "    <tr>\n",
       "      <th>1</th>\n",
       "      <td>-1.771349</td>\n",
       "      <td>-2.337054</td>\n",
       "      <td>-0.767774</td>\n",
       "      <td>-0.242808</td>\n",
       "      <td>0.997072</td>\n",
       "      <td>-1.084761</td>\n",
       "      <td>-0.140376</td>\n",
       "      <td>1.757949</td>\n",
       "      <td>2.031080e-03</td>\n",
       "    </tr>\n",
       "    <tr>\n",
       "      <th>2</th>\n",
       "      <td>-1.717586</td>\n",
       "      <td>-2.337054</td>\n",
       "      <td>-0.767774</td>\n",
       "      <td>-0.242808</td>\n",
       "      <td>0.997072</td>\n",
       "      <td>-1.084761</td>\n",
       "      <td>-0.140376</td>\n",
       "      <td>1.757949</td>\n",
       "      <td>1.405066e-03</td>\n",
       "    </tr>\n",
       "    <tr>\n",
       "      <th>3</th>\n",
       "      <td>-1.610059</td>\n",
       "      <td>-2.337054</td>\n",
       "      <td>-0.767774</td>\n",
       "      <td>-0.242808</td>\n",
       "      <td>0.997072</td>\n",
       "      <td>-1.084761</td>\n",
       "      <td>-0.140376</td>\n",
       "      <td>1.757949</td>\n",
       "      <td>1.063518e-04</td>\n",
       "    </tr>\n",
       "    <tr>\n",
       "      <th>4</th>\n",
       "      <td>-1.395005</td>\n",
       "      <td>-2.337054</td>\n",
       "      <td>-0.767774</td>\n",
       "      <td>-0.242808</td>\n",
       "      <td>0.997072</td>\n",
       "      <td>-1.084761</td>\n",
       "      <td>-0.140376</td>\n",
       "      <td>1.852931</td>\n",
       "      <td>6.228896e-04</td>\n",
       "    </tr>\n",
       "    <tr>\n",
       "      <th>...</th>\n",
       "      <td>...</td>\n",
       "      <td>...</td>\n",
       "      <td>...</td>\n",
       "      <td>...</td>\n",
       "      <td>...</td>\n",
       "      <td>...</td>\n",
       "      <td>...</td>\n",
       "      <td>...</td>\n",
       "      <td>...</td>\n",
       "    </tr>\n",
       "    <tr>\n",
       "      <th>1431</th>\n",
       "      <td>0.701771</td>\n",
       "      <td>0.354213</td>\n",
       "      <td>-1.034778</td>\n",
       "      <td>-0.242808</td>\n",
       "      <td>-0.652367</td>\n",
       "      <td>-1.084761</td>\n",
       "      <td>-0.140376</td>\n",
       "      <td>-0.901569</td>\n",
       "      <td>4.170510e-06</td>\n",
       "    </tr>\n",
       "    <tr>\n",
       "      <th>1432</th>\n",
       "      <td>0.863061</td>\n",
       "      <td>0.354213</td>\n",
       "      <td>-1.034778</td>\n",
       "      <td>-0.242808</td>\n",
       "      <td>-0.652367</td>\n",
       "      <td>-1.084761</td>\n",
       "      <td>-0.140376</td>\n",
       "      <td>-1.091535</td>\n",
       "      <td>1.935563e-03</td>\n",
       "    </tr>\n",
       "    <tr>\n",
       "      <th>1433</th>\n",
       "      <td>0.809298</td>\n",
       "      <td>0.354213</td>\n",
       "      <td>-1.034778</td>\n",
       "      <td>-0.242808</td>\n",
       "      <td>-0.652367</td>\n",
       "      <td>-1.084761</td>\n",
       "      <td>-0.140376</td>\n",
       "      <td>-1.091535</td>\n",
       "      <td>2.277962e-04</td>\n",
       "    </tr>\n",
       "    <tr>\n",
       "      <th>1434</th>\n",
       "      <td>0.755534</td>\n",
       "      <td>0.354213</td>\n",
       "      <td>-1.034778</td>\n",
       "      <td>-0.242808</td>\n",
       "      <td>-0.652367</td>\n",
       "      <td>-1.084761</td>\n",
       "      <td>-0.140376</td>\n",
       "      <td>-1.091535</td>\n",
       "      <td>8.073620e-07</td>\n",
       "    </tr>\n",
       "    <tr>\n",
       "      <th>1435</th>\n",
       "      <td>1.078115</td>\n",
       "      <td>0.354213</td>\n",
       "      <td>0.567243</td>\n",
       "      <td>-0.242808</td>\n",
       "      <td>0.054536</td>\n",
       "      <td>1.014588</td>\n",
       "      <td>-0.140376</td>\n",
       "      <td>0.789124</td>\n",
       "      <td>1.077470e-03</td>\n",
       "    </tr>\n",
       "  </tbody>\n",
       "</table>\n",
       "<p>1436 rows × 9 columns</p>\n",
       "</div>"
      ],
      "text/plain": [
       "      Age_08_04  Fuel_Type        HP  Automatic        cc     Doors     Gears  \\\n",
       "0     -1.771349  -2.337054 -0.767774  -0.242808  0.997072 -1.084761 -0.140376   \n",
       "1     -1.771349  -2.337054 -0.767774  -0.242808  0.997072 -1.084761 -0.140376   \n",
       "2     -1.717586  -2.337054 -0.767774  -0.242808  0.997072 -1.084761 -0.140376   \n",
       "3     -1.610059  -2.337054 -0.767774  -0.242808  0.997072 -1.084761 -0.140376   \n",
       "4     -1.395005  -2.337054 -0.767774  -0.242808  0.997072 -1.084761 -0.140376   \n",
       "...         ...        ...       ...        ...       ...       ...       ...   \n",
       "1431   0.701771   0.354213 -1.034778  -0.242808 -0.652367 -1.084761 -0.140376   \n",
       "1432   0.863061   0.354213 -1.034778  -0.242808 -0.652367 -1.084761 -0.140376   \n",
       "1433   0.809298   0.354213 -1.034778  -0.242808 -0.652367 -1.084761 -0.140376   \n",
       "1434   0.755534   0.354213 -1.034778  -0.242808 -0.652367 -1.084761 -0.140376   \n",
       "1435   1.078115   0.354213  0.567243  -0.242808  0.054536  1.014588 -0.140376   \n",
       "\n",
       "        Weight     influence  \n",
       "0     1.757949  2.536538e-03  \n",
       "1     1.757949  2.031080e-03  \n",
       "2     1.757949  1.405066e-03  \n",
       "3     1.757949  1.063518e-04  \n",
       "4     1.852931  6.228896e-04  \n",
       "...        ...           ...  \n",
       "1431 -0.901569  4.170510e-06  \n",
       "1432 -1.091535  1.935563e-03  \n",
       "1433 -1.091535  2.277962e-04  \n",
       "1434 -1.091535  8.073620e-07  \n",
       "1435  0.789124  1.077470e-03  \n",
       "\n",
       "[1436 rows x 9 columns]"
      ]
     },
     "execution_count": 45,
     "metadata": {},
     "output_type": "execute_result"
    }
   ],
   "source": [
    "sm_model = sm.regression.linear_model.OLS(y_standr,X_standr).fit()\n",
    "influence = sm_model.get_influence()\n",
    "influence_list = influence.cooks_distance[0]\n",
    "influence_df = pd.DataFrame(influence_list, columns = ['influence'])\n",
    "influence_df.index = X_standr.index\n",
    "\n",
    "cooks_df = X_standr.merge(influence_df, left_index = True, right_index = True)\n",
    "cooks_df"
   ]
  },
  {
   "cell_type": "code",
   "execution_count": 46,
   "id": "e250bcfc-df35-471f-beac-7df594e96633",
   "metadata": {},
   "outputs": [
    {
     "name": "stdout",
     "output_type": "stream",
     "text": [
      "1436\n",
      "0.002785515320334262\n",
      "Removed: 71\n",
      "This is 4.944289693593315% of our dataset\n"
     ]
    }
   ],
   "source": [
    "#Setting the threshold and getting the ouliers\n",
    "original_length = len(X_standr)\n",
    "cooks_threshold = 4/original_length # by looking at influence columns 4 values are higher, o.w we have to fix threshold value\n",
    "cooks_outliers = cooks_df[cooks_df['influence'] > cooks_threshold]\n",
    "cooks_outliers.sort_values(by=['influence'])\n",
    "print(original_length)\n",
    "print(cooks_threshold)\n",
    "print(\"Removed:\", len(cooks_outliers))\n",
    "print(f\"This is {len(cooks_outliers)/original_length * 100}% of our dataset\")"
   ]
  },
  {
   "cell_type": "code",
   "execution_count": 47,
   "id": "2c566ec9-710c-47c8-aeb1-068186fb22f9",
   "metadata": {},
   "outputs": [
    {
     "data": {
      "image/png": "[encoded data removed]",
      "text/plain": [
       "<Figure size 640x480 with 1 Axes>"
      ]
     },
     "metadata": {},
     "output_type": "display_data"
    }
   ],
   "source": [
    "plt.stem(np.arange(len(X_standr)), np.round(influence_list, 3), markerfmt = '*')\n",
    "plt.show()"
   ]
  },
  {
   "cell_type": "code",
   "execution_count": 48,
   "id": "9400bcbe-b5a4-47b3-8120-82dac15369af",
   "metadata": {},
   "outputs": [
    {
     "name": "stdout",
     "output_type": "stream",
     "text": [
      "Number of variables: 8 and number of observations:  1436\n",
      "Cutoff for leverage value:  0.019\n"
     ]
    }
   ],
   "source": [
    "#Leverage value\n",
    "p = X_standr.shape[1]\n",
    "n = X_standr.shape[0]\n",
    "leverage_cutoff = 3*((p+1)/n)\n",
    "print(\"Number of variables:\",p,\"and number of observations: \",n)\n",
    "print(\"Cutoff for leverage value: \", round(leverage_cutoff, 3))"
   ]
  },
  {
   "cell_type": "code",
   "execution_count": 51,
   "id": "f9277b58-37e8-4644-8f0c-7441b795009f",
   "metadata": {},
   "outputs": [
    {
     "data": {
      "image/png": "[encoded data removed]",
      "text/plain": [
       "<Figure size 800x600 with 1 Axes>"
      ]
     },
     "metadata": {},
     "output_type": "display_data"
    }
   ],
   "source": [
    "from statsmodels.graphics.regressionplots import influence_plot\n",
    "fig, ax = plt.subplots(figsize = (8,6))\n",
    "influence_plot(mlr_model_3, ax = ax)\n",
    "plt.show()"
   ]
  },
  {
   "cell_type": "code",
   "execution_count": 52,
   "id": "bc80f869-a38d-4d5f-8b25-04413adf0be6",
   "metadata": {},
   "outputs": [
    {
     "name": "stdout",
     "output_type": "stream",
     "text": [
      "1432\n"
     ]
    }
   ],
   "source": [
    "X_standr_out = X_standr.drop(X_standr.index[[16,8,27,28]],axis = 0).reset_index()\n",
    "X_standr_out = X_standr_out.drop(['index'],axis=1)\n",
    "print(len(X_standr_out))"
   ]
  },
  {
   "cell_type": "code",
   "execution_count": 53,
   "id": "7832b8da-6501-41d4-be9e-f4b95e926df5",
   "metadata": {},
   "outputs": [],
   "source": [
    "y_standr_out = y_standr.drop(y_standr.index[[16,8,27,28]],axis = 0).reset_index()\n",
    "y_standr_out = y_standr_out.drop(['index'],axis=1).values"
   ]
  },
  {
   "cell_type": "code",
   "execution_count": 54,
   "id": "6ff69f76-e640-4f3a-907c-31f12692ed94",
   "metadata": {},
   "outputs": [
    {
     "data": {
      "text/plain": [
       "((1432, 8), (1432, 1))"
      ]
     },
     "execution_count": 54,
     "metadata": {},
     "output_type": "execute_result"
    }
   ],
   "source": [
    "X_standr_out.shape, y_standr_out.shape"
   ]
  },
  {
   "cell_type": "code",
   "execution_count": 55,
   "id": "08f5a3fa-65f8-4e03-8a4c-a692b46697a8",
   "metadata": {},
   "outputs": [
    {
     "data": {
      "text/plain": [
       "0.8461447231210555"
      ]
     },
     "execution_count": 55,
     "metadata": {},
     "output_type": "execute_result"
    }
   ],
   "source": [
    "mlr_model_4 = sm.OLS(y_standr_out,X_standr_out).fit()\n",
    "mlr_model_4.rsquared"
   ]
  },
  {
   "cell_type": "code",
   "execution_count": 56,
   "id": "33edfc34-babb-44c7-aff0-e99a5c1899b1",
   "metadata": {},
   "outputs": [
    {
     "data": {
      "text/plain": [
       "0.8452803676329715"
      ]
     },
     "execution_count": 56,
     "metadata": {},
     "output_type": "execute_result"
    }
   ],
   "source": [
    "mlr_model_4 = sm.OLS(y_standr_out,X_standr_out).fit()\n",
    "mlr_model_4.rsquared_adj"
   ]
  },
  {
   "cell_type": "code",
   "execution_count": 57,
   "id": "22e4b168-2492-4c24-a2c6-73eb4d07cfe8",
   "metadata": {},
   "outputs": [
    {
     "data": {
      "text/html": [
       "<div>\n",
       "<style scoped>\n",
       "    .dataframe tbody tr th:only-of-type {\n",
       "        vertical-align: middle;\n",
       "    }\n",
       "\n",
       "    .dataframe tbody tr th {\n",
       "        vertical-align: top;\n",
       "    }\n",
       "\n",
       "    .dataframe thead th {\n",
       "        text-align: right;\n",
       "    }\n",
       "</style>\n",
       "<table border=\"1\" class=\"dataframe\">\n",
       "  <thead>\n",
       "    <tr style=\"text-align: right;\">\n",
       "      <th></th>\n",
       "      <th>Age_08_04</th>\n",
       "      <th>KM</th>\n",
       "      <th>Fuel_Type</th>\n",
       "      <th>HP</th>\n",
       "      <th>Automatic</th>\n",
       "      <th>cc</th>\n",
       "      <th>Doors</th>\n",
       "      <th>Cylinders</th>\n",
       "      <th>Gears</th>\n",
       "      <th>Weight</th>\n",
       "    </tr>\n",
       "  </thead>\n",
       "  <tbody>\n",
       "    <tr>\n",
       "      <th>601</th>\n",
       "      <td>50</td>\n",
       "      <td>1</td>\n",
       "      <td>1</td>\n",
       "      <td>90</td>\n",
       "      <td>0</td>\n",
       "      <td>2000</td>\n",
       "      <td>3</td>\n",
       "      <td>4</td>\n",
       "      <td>5</td>\n",
       "      <td>1260</td>\n",
       "    </tr>\n",
       "    <tr>\n",
       "      <th>1149</th>\n",
       "      <td>74</td>\n",
       "      <td>100732</td>\n",
       "      <td>2</td>\n",
       "      <td>86</td>\n",
       "      <td>1</td>\n",
       "      <td>1300</td>\n",
       "      <td>4</td>\n",
       "      <td>4</td>\n",
       "      <td>5</td>\n",
       "      <td>1030</td>\n",
       "    </tr>\n",
       "    <tr>\n",
       "      <th>843</th>\n",
       "      <td>62</td>\n",
       "      <td>66082</td>\n",
       "      <td>2</td>\n",
       "      <td>110</td>\n",
       "      <td>0</td>\n",
       "      <td>1600</td>\n",
       "      <td>5</td>\n",
       "      <td>4</td>\n",
       "      <td>5</td>\n",
       "      <td>1070</td>\n",
       "    </tr>\n",
       "    <tr>\n",
       "      <th>581</th>\n",
       "      <td>52</td>\n",
       "      <td>31579</td>\n",
       "      <td>2</td>\n",
       "      <td>97</td>\n",
       "      <td>0</td>\n",
       "      <td>1400</td>\n",
       "      <td>3</td>\n",
       "      <td>4</td>\n",
       "      <td>5</td>\n",
       "      <td>1025</td>\n",
       "    </tr>\n",
       "    <tr>\n",
       "      <th>1315</th>\n",
       "      <td>70</td>\n",
       "      <td>68000</td>\n",
       "      <td>2</td>\n",
       "      <td>86</td>\n",
       "      <td>1</td>\n",
       "      <td>1300</td>\n",
       "      <td>3</td>\n",
       "      <td>4</td>\n",
       "      <td>5</td>\n",
       "      <td>1045</td>\n",
       "    </tr>\n",
       "    <tr>\n",
       "      <th>...</th>\n",
       "      <td>...</td>\n",
       "      <td>...</td>\n",
       "      <td>...</td>\n",
       "      <td>...</td>\n",
       "      <td>...</td>\n",
       "      <td>...</td>\n",
       "      <td>...</td>\n",
       "      <td>...</td>\n",
       "      <td>...</td>\n",
       "      <td>...</td>\n",
       "    </tr>\n",
       "    <tr>\n",
       "      <th>1276</th>\n",
       "      <td>75</td>\n",
       "      <td>74096</td>\n",
       "      <td>2</td>\n",
       "      <td>110</td>\n",
       "      <td>0</td>\n",
       "      <td>1600</td>\n",
       "      <td>3</td>\n",
       "      <td>4</td>\n",
       "      <td>5</td>\n",
       "      <td>1050</td>\n",
       "    </tr>\n",
       "    <tr>\n",
       "      <th>952</th>\n",
       "      <td>60</td>\n",
       "      <td>52487</td>\n",
       "      <td>2</td>\n",
       "      <td>110</td>\n",
       "      <td>0</td>\n",
       "      <td>1600</td>\n",
       "      <td>4</td>\n",
       "      <td>4</td>\n",
       "      <td>5</td>\n",
       "      <td>1035</td>\n",
       "    </tr>\n",
       "    <tr>\n",
       "      <th>198</th>\n",
       "      <td>42</td>\n",
       "      <td>105699</td>\n",
       "      <td>2</td>\n",
       "      <td>97</td>\n",
       "      <td>0</td>\n",
       "      <td>1400</td>\n",
       "      <td>3</td>\n",
       "      <td>4</td>\n",
       "      <td>5</td>\n",
       "      <td>1025</td>\n",
       "    </tr>\n",
       "    <tr>\n",
       "      <th>918</th>\n",
       "      <td>65</td>\n",
       "      <td>57374</td>\n",
       "      <td>2</td>\n",
       "      <td>110</td>\n",
       "      <td>0</td>\n",
       "      <td>1600</td>\n",
       "      <td>5</td>\n",
       "      <td>4</td>\n",
       "      <td>5</td>\n",
       "      <td>1075</td>\n",
       "    </tr>\n",
       "    <tr>\n",
       "      <th>1238</th>\n",
       "      <td>75</td>\n",
       "      <td>82256</td>\n",
       "      <td>2</td>\n",
       "      <td>110</td>\n",
       "      <td>0</td>\n",
       "      <td>1600</td>\n",
       "      <td>3</td>\n",
       "      <td>4</td>\n",
       "      <td>5</td>\n",
       "      <td>1050</td>\n",
       "    </tr>\n",
       "  </tbody>\n",
       "</table>\n",
       "<p>288 rows × 10 columns</p>\n",
       "</div>"
      ],
      "text/plain": [
       "      Age_08_04      KM  Fuel_Type   HP  Automatic    cc  Doors  Cylinders  \\\n",
       "601          50       1          1   90          0  2000      3          4   \n",
       "1149         74  100732          2   86          1  1300      4          4   \n",
       "843          62   66082          2  110          0  1600      5          4   \n",
       "581          52   31579          2   97          0  1400      3          4   \n",
       "1315         70   68000          2   86          1  1300      3          4   \n",
       "...         ...     ...        ...  ...        ...   ...    ...        ...   \n",
       "1276         75   74096          2  110          0  1600      3          4   \n",
       "952          60   52487          2  110          0  1600      4          4   \n",
       "198          42  105699          2   97          0  1400      3          4   \n",
       "918          65   57374          2  110          0  1600      5          4   \n",
       "1238         75   82256          2  110          0  1600      3          4   \n",
       "\n",
       "      Gears  Weight  \n",
       "601       5    1260  \n",
       "1149      5    1030  \n",
       "843       5    1070  \n",
       "581       5    1025  \n",
       "1315      5    1045  \n",
       "...     ...     ...  \n",
       "1276      5    1050  \n",
       "952       5    1035  \n",
       "198       5    1025  \n",
       "918       5    1075  \n",
       "1238      5    1050  \n",
       "\n",
       "[288 rows x 10 columns]"
      ]
     },
     "execution_count": 57,
     "metadata": {},
     "output_type": "execute_result"
    }
   ],
   "source": [
    "test_X"
   ]
  },
  {
   "cell_type": "code",
   "execution_count": null,
   "id": "b8de0c5b-1c13-4e60-b2c0-7aadd9d68a28",
   "metadata": {},
   "outputs": [],
   "source": [
    "1. Normalization typically refers to the process of scaling individual samples to have unit norm.\n",
    "It often involves rescaling the data to a range of [0, 1] or [-1, 1]. One common method of normalization is min-max scaling \n",
    "Standardization (or Z-score normalization) transforms the data to have a mean of zero and a standard deviation of one. \n",
    "This is done by subtracting the mean and dividing by the standard deviation."
   ]
  },
  {
   "cell_type": "code",
   "execution_count": null,
   "id": "8c81650e-a8dd-4dbb-a7e3-f340fbf4b2e0",
   "metadata": {},
   "outputs": [],
   "source": [
    "2. VIF and condition index can be useful"
   ]
  },
  {
   "cell_type": "code",
   "execution_count": null,
   "id": "12a7bd99-a47a-4e6b-81c8-862603eae863",
   "metadata": {},
   "outputs": [],
   "source": []
  },
  {
   "cell_type": "code",
   "execution_count": null,
   "id": "789208c6-9ec9-4993-bb17-e97146223ef8",
   "metadata": {},
   "outputs": [],
   "source": []
  },
  {
   "cell_type": "code",
   "execution_count": null,
   "id": "819dad1c-26b5-4167-9a30-eab2634db734",
   "metadata": {},
   "outputs": [],
   "source": []
  },
  {
   "cell_type": "code",
   "execution_count": null,
   "id": "5779b3da-3500-40de-ad92-bf8d668b2b0f",
   "metadata": {},
   "outputs": [],
   "source": []
  }
 ],
 "metadata": {
  "kernelspec": {
   "display_name": "Python 3 (ipykernel)",
   "language": "python",
   "name": "python3"
  },
  "language_info": {
   "codemirror_mode": {
    "name": "ipython",
    "version": 3
   },
   "file_extension": ".py",
   "mimetype": "text/x-python",
   "name": "python",
   "nbconvert_exporter": "python",
   "pygments_lexer": "ipython3",
   "version": "3.11.7"
  }
 },
 "nbformat": 4,
 "nbformat_minor": 5
}
